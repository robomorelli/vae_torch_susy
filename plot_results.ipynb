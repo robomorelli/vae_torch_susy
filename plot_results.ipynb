{
 "cells": [
  {
   "cell_type": "code",
   "execution_count": 1,
   "id": "deeb9419",
   "metadata": {},
   "outputs": [],
   "source": [
    "import matplotlib.pyplot as plt"
   ]
  },
  {
   "cell_type": "code",
   "execution_count": null,
   "id": "69efc8ce",
   "metadata": {},
   "outputs": [],
   "source": [
    "reweight_here = split_val\n",
    "bin_factor=1\n",
    "histo_start = -50\n",
    "histo_end=300\n",
    "f,a = plt.subplots(1,1, figsize=(16, 6))\n",
    "\n",
    "start = 0\n",
    "end = None\n",
    "    \n",
    "# color=['purple', 'navy', 'red', 'green', 'black', 'blue']\n",
    "num_loss = 1\n",
    "n = 50\n",
    "density = False\n",
    "\n",
    "for i,bump_sig_loss in enumerate(bump_sig_loss_list[start:end]):\n",
    "    i = i + start\n",
    "    if sig_to_plot:\n",
    "        if signal_name[i] not in signal_to_plot:\n",
    "            continue\n",
    "    histo_range = (histo_start, histo_end)\n",
    "    bins = int((histo_range[1]-histo_range[0])*bin_factor)\n",
    "    counts_s, edges_s = np.histogram((bump_sig_loss).astype(float),range=histo_range, bins =bins,\n",
    "                                    weights=sig_list[i][:,-1]*sig_factor,\n",
    "                                     density=density\n",
    "                                    )\n",
    "    a.step(x=edges_s, y=np.append(counts_s, 0),\n",
    "            where=\"post\", label='signal_{}'.format(signal_name[i]))\n",
    "\n",
    "histo_range = (histo_start, histo_end)\n",
    "bins = int((histo_range[1]-histo_range[0])*bin_factor)\n",
    "\n",
    "counts_dval, edges_dval = np.histogram((np.array(bump_bkg_loss_v)).astype(float)\n",
    "                                       ,range=histo_range,\n",
    "                                       bins =bins*100,\n",
    "                                            weights=reweight_here*sample_v[:,-1],\n",
    "                                           density=density) \n",
    "                                      \n",
    "th = (edges_dval[-np.argmax(np.cumsum(counts_dval[::-1])>n)-1]+\n",
    "            edges_dval[-np.argmax(np.cumsum(counts_dval[::-1])>n)])/2\n",
    "\n",
    "a.hist((np.array(bump_bkg_loss_v)).astype(float),range=histo_range, bins =bins,\n",
    "            weights=reweight_here*sample_v[:,-1], \n",
    "       stacked=True, \n",
    "            density=density,\n",
    "            color = ['lightsteelblue'], label=['validation_signal_background'])\n",
    "\n",
    "\n",
    "a.set_ylabel('Events', fontsize=16)\n",
    "a.set_title('LOSSreco Mid Region {} selected events'.format(n), fontsize = 20)\n",
    "\n",
    "a.set_ylim(10**-3,10**4)\n",
    "a.tick_params(labelsize='x-large')\n",
    "# a.set_xlim(-5,45)\n",
    "\n",
    "a.set_yscale('log') \n",
    "a.axvline(int(th), color='black')\n",
    "# lst = [0,5,10,15,th,20,25,30, 35, 40, 45, 50, 60, 70, 80 ,90 ,100, 200, 500, 1000]\n",
    "# lst = [int(x) for x in lst]\n",
    "# a.set_xticks(lst)\n",
    "print(path)\n",
    "\n",
    "plt.tight_layout()\n"
   ]
  }
 ],
 "metadata": {
  "kernelspec": {
   "display_name": "Python 3 (ipykernel)",
   "language": "python",
   "name": "python3"
  },
  "language_info": {
   "codemirror_mode": {
    "name": "ipython",
    "version": 3
   },
   "file_extension": ".py",
   "mimetype": "text/x-python",
   "name": "python",
   "nbconvert_exporter": "python",
   "pygments_lexer": "ipython3",
   "version": "3.7.0"
  }
 },
 "nbformat": 4,
 "nbformat_minor": 5
}
